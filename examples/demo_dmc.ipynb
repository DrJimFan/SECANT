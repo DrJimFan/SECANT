{
 "cells": [
  {
   "cell_type": "code",
   "execution_count": 1,
   "metadata": {},
   "outputs": [],
   "source": [
    "from secant.envs.dm_control import make_dmc, ALL_TASKS"
   ]
  },
  {
   "cell_type": "code",
   "execution_count": 2,
   "metadata": {
    "scrolled": true
   },
   "outputs": [
    {
     "data": {
      "text/plain": [
       "['acrobot_swingup',\n",
       " 'acrobot_swingup_sparse',\n",
       " 'ball_in_cup_catch',\n",
       " 'cartpole_balance',\n",
       " 'cartpole_balance_sparse',\n",
       " 'cartpole_swingup',\n",
       " 'cartpole_swingup_sparse',\n",
       " 'cartpole_two_poles',\n",
       " 'cartpole_three_poles',\n",
       " 'cheetah_run',\n",
       " 'finger_spin',\n",
       " 'finger_turn_easy',\n",
       " 'finger_turn_hard',\n",
       " 'fish_upright',\n",
       " 'fish_swim',\n",
       " 'hopper_stand',\n",
       " 'hopper_hop',\n",
       " 'humanoid_stand',\n",
       " 'humanoid_walk',\n",
       " 'humanoid_run',\n",
       " 'humanoid_run_pure_state',\n",
       " 'humanoid_CMU_stand',\n",
       " 'humanoid_CMU_run',\n",
       " 'lqr_lqr_2_1',\n",
       " 'lqr_lqr_6_2',\n",
       " 'manipulator_bring_ball',\n",
       " 'manipulator_bring_peg',\n",
       " 'manipulator_insert_ball',\n",
       " 'manipulator_insert_peg',\n",
       " 'pendulum_swingup',\n",
       " 'point_mass_easy',\n",
       " 'point_mass_hard',\n",
       " 'quadruped_walk',\n",
       " 'quadruped_run',\n",
       " 'quadruped_escape',\n",
       " 'quadruped_fetch',\n",
       " 'reacher_easy',\n",
       " 'reacher_hard',\n",
       " 'stacker_stack_2',\n",
       " 'stacker_stack_4',\n",
       " 'swimmer_swimmer6',\n",
       " 'swimmer_swimmer15',\n",
       " 'walker_stand',\n",
       " 'walker_walk',\n",
       " 'walker_run',\n",
       " 'cr',\n",
       " 'ww',\n",
       " 'ws',\n",
       " 're',\n",
       " 'fs',\n",
       " 'fte',\n",
       " 'bicc',\n",
       " 'cs',\n",
       " 'cb']"
      ]
     },
     "execution_count": 2,
     "metadata": {},
     "output_type": "execute_result"
    }
   ],
   "source": [
    "ALL_TASKS"
   ]
  },
  {
   "cell_type": "code",
   "execution_count": 3,
   "metadata": {},
   "outputs": [],
   "source": [
    "env = make_dmc(\n",
    "    task=\"walker_walk\",\n",
    "    image_height=84,\n",
    "    image_width=84,\n",
    "    frame_stack=3,\n",
    "    background=\"original\",\n",
    "    action_repeat=4,\n",
    "    device_id=0\n",
    ")"
   ]
  },
  {
   "cell_type": "code",
   "execution_count": 4,
   "metadata": {},
   "outputs": [
    {
     "name": "stdout",
     "output_type": "stream",
     "text": [
      "The episode terminates after 1000 steps.\n"
     ]
    }
   ],
   "source": [
    "env.reset()\n",
    "num_step = 0\n",
    "while True:\n",
    "    action = env.action_space.sample()\n",
    "    obs, reward, done, info = env.step(action)\n",
    "    num_step += 1\n",
    "    if done:\n",
    "        print(f\"The episode terminates after {num_step*4} steps.\")\n",
    "        break"
   ]
  },
  {
   "cell_type": "code",
   "execution_count": 7,
   "metadata": {},
   "outputs": [
    {
     "data": {
      "image/png": "[encoded data removed]",
      "text/plain": [
       "<PIL.Image.Image image mode=RGB size=84x84 at 0x7F8F38D27690>"
      ]
     },
     "execution_count": 7,
     "metadata": {},
     "output_type": "execute_result"
    }
   ],
   "source": [
    "# visualze the first frame\n",
    "from PIL import Image\n",
    "obs = env.reset()\n",
    "Image.fromarray(obs.transpose(1,2,0)[:,:,:3])"
   ]
  },
  {
   "cell_type": "code",
   "execution_count": null,
   "metadata": {},
   "outputs": [],
   "source": []
  }
 ],
 "metadata": {
  "kernelspec": {
   "display_name": "Python 3",
   "language": "python",
   "name": "python3"
  },
  "language_info": {
   "codemirror_mode": {
    "name": "ipython",
    "version": 3
   },
   "file_extension": ".py",
   "mimetype": "text/x-python",
   "name": "python",
   "nbconvert_exporter": "python",
   "pygments_lexer": "ipython3",
   "version": "3.7.7"
  }
 },
 "nbformat": 4,
 "nbformat_minor": 4
}
